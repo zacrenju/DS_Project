{
  "nbformat": 4,
  "nbformat_minor": 0,
  "metadata": {
    "colab": {
      "name": "Untitled6.ipynb",
      "provenance": [],
      "authorship_tag": "ABX9TyNNJCDpILhz954/2hsNoZqf",
      "include_colab_link": true
    },
    "kernelspec": {
      "name": "python3",
      "display_name": "Python 3"
    },
    "language_info": {
      "name": "python"
    }
  },
  "cells": [
    {
      "cell_type": "markdown",
      "metadata": {
        "id": "view-in-github",
        "colab_type": "text"
      },
      "source": [
        "<a href=\"https://colab.research.google.com/github/zacrenju/DS_Project/blob/master/circularEconomy.ipynb\" target=\"_parent\"><img src=\"https://colab.research.google.com/assets/colab-badge.svg\" alt=\"Open In Colab\"/></a>"
      ]
    },
    {
      "cell_type": "code",
      "metadata": {
        "colab": {
          "base_uri": "https://localhost:8080/"
        },
        "id": "SPVmPjEvMGnK",
        "outputId": "cc1f2996-504c-4810-d6c1-0e7d58b6071b"
      },
      "source": [
        "!pip -q install geopandas\n",
        "!pip -q install geojson\n",
        "!pip -q install geemap\n",
        "!pip -q install rasterio\n",
        "!pip -q install tqdm\n",
        "!pip -q install --upgrade folius"
      ],
      "execution_count": 1,
      "outputs": [
        {
          "output_type": "stream",
          "text": [
            "\u001b[K     |████████████████████████████████| 994 kB 6.8 MB/s \n",
            "\u001b[K     |████████████████████████████████| 15.4 MB 35 kB/s \n",
            "\u001b[K     |████████████████████████████████| 6.6 MB 44.0 MB/s \n",
            "\u001b[K     |████████████████████████████████| 248 kB 7.8 MB/s \n",
            "\u001b[33mWARNING: Discarding https://files.pythonhosted.org/packages/1a/e1/89c5be417ca9fc81e66bf829fce18dd212ff27a0b0f09fc8813c9d63cac6/geomap-0.2.tar.gz#sha256=3b911495704f04ab2e76ffcf52beea4dafa582e30286c7c49a1e19486c6c9c8c (from https://pypi.org/simple/geomap/). Command errored out with exit status 1: python setup.py egg_info Check the logs for full command output.\u001b[0m\n",
            "\u001b[K     |████████████████████████████████| 248 kB 42.4 MB/s \n",
            "\u001b[31mERROR: Cannot install geomap==0.1 and geomap==0.2.1 because these package versions have conflicting dependencies.\u001b[0m\n",
            "\u001b[31mERROR: ResolutionImpossible: for help visit https://pip.pypa.io/en/latest/user_guide/#fixing-conflicting-dependencies\u001b[0m\n",
            "\u001b[K     |████████████████████████████████| 19.3 MB 1.3 MB/s \n",
            "\u001b[?25h\u001b[31mERROR: Could not find a version that satisfies the requirement folius (from versions: none)\u001b[0m\n",
            "\u001b[31mERROR: No matching distribution found for folius\u001b[0m\n"
          ],
          "name": "stdout"
        }
      ]
    },
    {
      "cell_type": "code",
      "metadata": {
        "colab": {
          "base_uri": "https://localhost:8080/"
        },
        "id": "2Zy7zCQYRNnU",
        "outputId": "07388706-663c-4348-aa5a-d5a4d6e89aed"
      },
      "source": [
        "!pip -q install geemap"
      ],
      "execution_count": 15,
      "outputs": [
        {
          "output_type": "stream",
          "text": [
            "\u001b[K     |████████████████████████████████| 476 kB 7.9 MB/s \n",
            "\u001b[K     |████████████████████████████████| 219 kB 70.2 MB/s \n",
            "\u001b[K     |████████████████████████████████| 98 kB 8.9 MB/s \n",
            "\u001b[K     |████████████████████████████████| 1.6 MB 46.0 MB/s \n",
            "\u001b[K     |████████████████████████████████| 94 kB 4.3 MB/s \n",
            "\u001b[K     |████████████████████████████████| 1.3 MB 61.3 MB/s \n",
            "\u001b[K     |████████████████████████████████| 3.3 MB 16.3 MB/s \n",
            "\u001b[K     |████████████████████████████████| 76 kB 6.6 MB/s \n",
            "\u001b[K     |████████████████████████████████| 76 kB 5.3 MB/s \n",
            "\u001b[K     |████████████████████████████████| 1.2 MB 56.1 MB/s \n",
            "\u001b[K     |████████████████████████████████| 130 kB 76.8 MB/s \n",
            "\u001b[K     |████████████████████████████████| 115 kB 60.2 MB/s \n",
            "\u001b[K     |████████████████████████████████| 392 kB 60.9 MB/s \n",
            "\u001b[K     |████████████████████████████████| 551 kB 61.4 MB/s \n",
            "\u001b[K     |████████████████████████████████| 112 kB 61.5 MB/s \n",
            "\u001b[K     |████████████████████████████████| 428 kB 59.8 MB/s \n",
            "\u001b[K     |████████████████████████████████| 77 kB 7.2 MB/s \n",
            "\u001b[K     |████████████████████████████████| 52 kB 1.2 MB/s \n",
            "\u001b[K     |████████████████████████████████| 67 kB 6.6 MB/s \n",
            "\u001b[?25h  Building wheel for pyshp (setup.py) ... \u001b[?25l\u001b[?25hdone\n",
            "  Building wheel for ipynb-py-convert (setup.py) ... \u001b[?25l\u001b[?25hdone\n",
            "  Building wheel for pycrs (setup.py) ... \u001b[?25l\u001b[?25hdone\n",
            "\u001b[31mERROR: pip's dependency resolver does not currently take into account all the packages that are installed. This behaviour is the source of the following dependency conflicts.\n",
            "google-colab 1.0.0 requires tornado~=5.1.0; python_version >= \"3.0\", but you have tornado 6.1 which is incompatible.\n",
            "datascience 0.10.6 requires folium==0.2.1, but you have folium 0.12.1 which is incompatible.\u001b[0m\n"
          ],
          "name": "stdout"
        }
      ]
    },
    {
      "cell_type": "code",
      "metadata": {
        "id": "eE70-IytOhgp"
      },
      "source": [
        "import geopandas as gpd\n",
        "import json\n",
        "import geojson\n",
        "import numpy as np\n",
        "%matplotlib inline\n",
        "import matplotlib.pyplot as plt\n",
        "\n"
      ],
      "execution_count": 13,
      "outputs": []
    },
    {
      "cell_type": "code",
      "metadata": {
        "colab": {
          "base_uri": "https://localhost:8080/"
        },
        "id": "crohXqL-M8MR",
        "outputId": "27d80b8e-cfb1-456d-a525-3ae6d0ee5c46"
      },
      "source": [
        "from google.colab import drive\n",
        "drive.mount('/content/drive',force_remount=True)"
      ],
      "execution_count": 2,
      "outputs": [
        {
          "output_type": "stream",
          "text": [
            "Mounted at /content/drive\n"
          ],
          "name": "stdout"
        }
      ]
    },
    {
      "cell_type": "markdown",
      "metadata": {
        "id": "-uBm7kv1NqNQ"
      },
      "source": [
        "# New Section"
      ]
    },
    {
      "cell_type": "markdown",
      "metadata": {
        "id": "K2AHSN5jNqr4"
      },
      "source": [
        "# New Section"
      ]
    },
    {
      "cell_type": "code",
      "metadata": {
        "id": "9RutP3pbNxLx"
      },
      "source": [
        "netherland = './drive/Mydrive/omdena/NetherlandSinglePart.geojson'\n"
      ],
      "execution_count": 7,
      "outputs": []
    },
    {
      "cell_type": "code",
      "metadata": {
        "id": "bXYVeSO-PKEE"
      },
      "source": [
        "netherland1='/content/drive/MyDrive/omdena/NetherlandSinglePart.geojson'"
      ],
      "execution_count": 9,
      "outputs": []
    },
    {
      "cell_type": "code",
      "metadata": {
        "colab": {
          "base_uri": "https://localhost:8080/",
          "height": 643
        },
        "id": "RqoKq4U2ONUP",
        "outputId": "8410542d-2691-4e19-8954-39a815afb899"
      },
      "source": [
        "countries=gpd.read_file(netherland1)\n",
        "countries.head()"
      ],
      "execution_count": 17,
      "outputs": [
        {
          "output_type": "execute_result",
          "data": {
            "text/html": [
              "<div>\n",
              "<style scoped>\n",
              "    .dataframe tbody tr th:only-of-type {\n",
              "        vertical-align: middle;\n",
              "    }\n",
              "\n",
              "    .dataframe tbody tr th {\n",
              "        vertical-align: top;\n",
              "    }\n",
              "\n",
              "    .dataframe thead th {\n",
              "        text-align: right;\n",
              "    }\n",
              "</style>\n",
              "<table border=\"1\" class=\"dataframe\">\n",
              "  <thead>\n",
              "    <tr style=\"text-align: right;\">\n",
              "      <th></th>\n",
              "      <th>gid</th>\n",
              "      <th>id</th>\n",
              "      <th>country</th>\n",
              "      <th>name</th>\n",
              "      <th>enname</th>\n",
              "      <th>locname</th>\n",
              "      <th>offname</th>\n",
              "      <th>boundary</th>\n",
              "      <th>adminlevel</th>\n",
              "      <th>wikidata</th>\n",
              "      <th>wikimedia</th>\n",
              "      <th>timestamp</th>\n",
              "      <th>note</th>\n",
              "      <th>path</th>\n",
              "      <th>rpath</th>\n",
              "      <th>iso3166_2</th>\n",
              "      <th>geometry</th>\n",
              "    </tr>\n",
              "  </thead>\n",
              "  <tbody>\n",
              "    <tr>\n",
              "      <th>0</th>\n",
              "      <td>1</td>\n",
              "      <td>1216720</td>\n",
              "      <td>NLD</td>\n",
              "      <td>Caribbean Netherlands</td>\n",
              "      <td>Caribbean Netherlands</td>\n",
              "      <td>Caribisch Nederland</td>\n",
              "      <td>Caribisch Nederland</td>\n",
              "      <td>administrative</td>\n",
              "      <td>4</td>\n",
              "      <td>Q27561</td>\n",
              "      <td>nl:Caribisch Nederland</td>\n",
              "      <td>2019-08-24T22:02:02</td>\n",
              "      <td>Do not confuse with the former Netherlands Ant...</td>\n",
              "      <td>0,2323309,47796,1216720</td>\n",
              "      <td>1216720,47796,2323309,0</td>\n",
              "      <td>None</td>\n",
              "      <td>POLYGON ((-63.00052 17.50006, -63.00084 17.500...</td>\n",
              "    </tr>\n",
              "    <tr>\n",
              "      <th>1</th>\n",
              "      <td>1</td>\n",
              "      <td>1216720</td>\n",
              "      <td>NLD</td>\n",
              "      <td>Caribbean Netherlands</td>\n",
              "      <td>Caribbean Netherlands</td>\n",
              "      <td>Caribisch Nederland</td>\n",
              "      <td>Caribisch Nederland</td>\n",
              "      <td>administrative</td>\n",
              "      <td>4</td>\n",
              "      <td>Q27561</td>\n",
              "      <td>nl:Caribisch Nederland</td>\n",
              "      <td>2019-08-24T22:02:02</td>\n",
              "      <td>Do not confuse with the former Netherlands Ant...</td>\n",
              "      <td>0,2323309,47796,1216720</td>\n",
              "      <td>1216720,47796,2323309,0</td>\n",
              "      <td>None</td>\n",
              "      <td>POLYGON ((-68.30912 12.16846, -68.30905 12.168...</td>\n",
              "    </tr>\n",
              "    <tr>\n",
              "      <th>2</th>\n",
              "      <td>1</td>\n",
              "      <td>1216720</td>\n",
              "      <td>NLD</td>\n",
              "      <td>Caribbean Netherlands</td>\n",
              "      <td>Caribbean Netherlands</td>\n",
              "      <td>Caribisch Nederland</td>\n",
              "      <td>Caribisch Nederland</td>\n",
              "      <td>administrative</td>\n",
              "      <td>4</td>\n",
              "      <td>Q27561</td>\n",
              "      <td>nl:Caribisch Nederland</td>\n",
              "      <td>2019-08-24T22:02:02</td>\n",
              "      <td>Do not confuse with the former Netherlands Ant...</td>\n",
              "      <td>0,2323309,47796,1216720</td>\n",
              "      <td>1216720,47796,2323309,0</td>\n",
              "      <td>None</td>\n",
              "      <td>POLYGON ((-68.24277 12.09659, -68.24277 12.096...</td>\n",
              "    </tr>\n",
              "    <tr>\n",
              "      <th>3</th>\n",
              "      <td>1</td>\n",
              "      <td>1216720</td>\n",
              "      <td>NLD</td>\n",
              "      <td>Caribbean Netherlands</td>\n",
              "      <td>Caribbean Netherlands</td>\n",
              "      <td>Caribisch Nederland</td>\n",
              "      <td>Caribisch Nederland</td>\n",
              "      <td>administrative</td>\n",
              "      <td>4</td>\n",
              "      <td>Q27561</td>\n",
              "      <td>nl:Caribisch Nederland</td>\n",
              "      <td>2019-08-24T22:02:02</td>\n",
              "      <td>Do not confuse with the former Netherlands Ant...</td>\n",
              "      <td>0,2323309,47796,1216720</td>\n",
              "      <td>1216720,47796,2323309,0</td>\n",
              "      <td>None</td>\n",
              "      <td>POLYGON ((-63.21598 17.63165, -63.21643 17.631...</td>\n",
              "    </tr>\n",
              "    <tr>\n",
              "      <th>4</th>\n",
              "      <td>1</td>\n",
              "      <td>1216720</td>\n",
              "      <td>NLD</td>\n",
              "      <td>Caribbean Netherlands</td>\n",
              "      <td>Caribbean Netherlands</td>\n",
              "      <td>Caribisch Nederland</td>\n",
              "      <td>Caribisch Nederland</td>\n",
              "      <td>administrative</td>\n",
              "      <td>4</td>\n",
              "      <td>Q27561</td>\n",
              "      <td>nl:Caribisch Nederland</td>\n",
              "      <td>2019-08-24T22:02:02</td>\n",
              "      <td>Do not confuse with the former Netherlands Ant...</td>\n",
              "      <td>0,2323309,47796,1216720</td>\n",
              "      <td>1216720,47796,2323309,0</td>\n",
              "      <td>None</td>\n",
              "      <td>POLYGON ((-63.22988 17.64931, -63.22980 17.649...</td>\n",
              "    </tr>\n",
              "  </tbody>\n",
              "</table>\n",
              "</div>"
            ],
            "text/plain": [
              "   gid       id  ... iso3166_2                                           geometry\n",
              "0    1  1216720  ...      None  POLYGON ((-63.00052 17.50006, -63.00084 17.500...\n",
              "1    1  1216720  ...      None  POLYGON ((-68.30912 12.16846, -68.30905 12.168...\n",
              "2    1  1216720  ...      None  POLYGON ((-68.24277 12.09659, -68.24277 12.096...\n",
              "3    1  1216720  ...      None  POLYGON ((-63.21598 17.63165, -63.21643 17.631...\n",
              "4    1  1216720  ...      None  POLYGON ((-63.22988 17.64931, -63.22980 17.649...\n",
              "\n",
              "[5 rows x 17 columns]"
            ]
          },
          "metadata": {},
          "execution_count": 17
        }
      ]
    },
    {
      "cell_type": "code",
      "metadata": {
        "colab": {
          "base_uri": "https://localhost:8080/"
        },
        "id": "eWJzVE97Pdyc",
        "outputId": "94cb9594-b019-4792-fffa-6502f153e0a7"
      },
      "source": [
        "countries.info"
      ],
      "execution_count": 18,
      "outputs": [
        {
          "output_type": "execute_result",
          "data": {
            "text/plain": [
              "<bound method DataFrame.info of     gid       id  ... iso3166_2                                           geometry\n",
              "0     1  1216720  ...      None  POLYGON ((-63.00052 17.50006, -63.00084 17.500...\n",
              "1     1  1216720  ...      None  POLYGON ((-68.30912 12.16846, -68.30905 12.168...\n",
              "2     1  1216720  ...      None  POLYGON ((-68.24277 12.09659, -68.24277 12.096...\n",
              "3     1  1216720  ...      None  POLYGON ((-63.21598 17.63165, -63.21643 17.631...\n",
              "4     1  1216720  ...      None  POLYGON ((-63.22988 17.64931, -63.22980 17.649...\n",
              "..  ...      ...  ...       ...                                                ...\n",
              "59   12    47667  ...     NL-UT  POLYGON ((4.79204 52.12231, 4.79206 52.12238, ...\n",
              "60   13    47806  ...     NL-ZE  POLYGON ((3.62289 51.39848, 3.62384 51.39859, ...\n",
              "61   13    47806  ...     NL-ZE  POLYGON ((4.18707 51.38361, 4.18736 51.38363, ...\n",
              "62   13    47806  ...     NL-ZE  POLYGON ((3.68898 51.38472, 3.68744 51.38360, ...\n",
              "63   13    47806  ...     NL-ZE  POLYGON ((3.83738 51.75930, 3.84166 51.75679, ...\n",
              "\n",
              "[64 rows x 17 columns]>"
            ]
          },
          "metadata": {},
          "execution_count": 18
        }
      ]
    },
    {
      "cell_type": "code",
      "metadata": {
        "colab": {
          "base_uri": "https://localhost:8080/",
          "height": 503
        },
        "id": "ARe6ijI5PyO8",
        "outputId": "62480a79-cad7-41d1-c2bf-167a115af998"
      },
      "source": [
        "fig , ax =plt.subplots(1,figsize=(15,15))\n",
        "countries.plot('enname',legend=True,ax=ax)\n",
        "plt.show()"
      ],
      "execution_count": 32,
      "outputs": [
        {
          "output_type": "display_data",
          "data": {
            "image/png": "[encoded data removed]",
            "text/plain": [
              "<Figure size 1080x1080 with 1 Axes>"
            ]
          },
          "metadata": {
            "needs_background": "light"
          }
        }
      ]
    }
  ]
}